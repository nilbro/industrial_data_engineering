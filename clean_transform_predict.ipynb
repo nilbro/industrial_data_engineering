{
 "cells": [
  {
   "cell_type": "code",
   "execution_count": 404,
   "metadata": {},
   "outputs": [],
   "source": [
    "import pandas as pd\n",
    "from sklearn import preprocessing\n",
    "import joblib \n",
    "from sqlalchemy import create_engine"
   ]
  },
  {
   "cell_type": "markdown",
   "metadata": {},
   "source": [
    "#### Read Dataset"
   ]
  },
  {
   "cell_type": "code",
   "execution_count": 405,
   "metadata": {},
   "outputs": [
    {
     "output_type": "execute_result",
     "data": {
      "text/plain": [
       "Unnamed: 0                         int64\n",
       "timestamp                          int64\n",
       "engine_speed                     float64\n",
       "hydraulic_drive_off              float64\n",
       "drill_boom_in_anchor_position    float64\n",
       "pvalve_drill_forward             float64\n",
       "hydraulic_pump                   float64\n",
       "bolt                             float64\n",
       "boom_lift                        float64\n",
       "boom_lower                       float64\n",
       "boom_forward                     float64\n",
       "boom_backward                    float64\n",
       "drill_boom_turn_left             float64\n",
       "drill_boom_turn_right            float64\n",
       "drill_boom_turn_forward          float64\n",
       "drill_boom_turn_backward         float64\n",
       "beam_right                       float64\n",
       "beam_left                        float64\n",
       "anchor                           float64\n",
       "activity                          object\n",
       "dtype: object"
      ]
     },
     "metadata": {},
     "execution_count": 405
    }
   ],
   "source": [
    "data = pd.read_csv('data_case_study.csv',parse_dates=True)\n",
    "#data = pd.read_csv('data_case_study.csv')\n",
    "data.dtypes"
   ]
  },
  {
   "cell_type": "code",
   "execution_count": 406,
   "metadata": {},
   "outputs": [
    {
     "output_type": "execute_result",
     "data": {
      "text/plain": [
       "   Unnamed: 0   timestamp  engine_speed  hydraulic_drive_off  \\\n",
       "0           0  1534192356     74.898806                  0.0   \n",
       "1           1  1534192357     75.139756                  0.0   \n",
       "2           2  1534192358     74.647495                  0.0   \n",
       "3           3  1534192359    106.015541                  0.0   \n",
       "4           4  1534192360     95.702048                  0.0   \n",
       "5           5  1534192361     77.171525                  0.0   \n",
       "6           6  1534192362     84.900022                  0.0   \n",
       "7           7  1534192363    104.028951                  0.0   \n",
       "8           8  1534192364    111.430257                  0.0   \n",
       "9           9  1534192365     92.677026                  0.0   \n",
       "\n",
       "   drill_boom_in_anchor_position  pvalve_drill_forward  hydraulic_pump  bolt  \\\n",
       "0                       0.479059                   NaN             NaN   NaN   \n",
       "1                       0.479059                   NaN             NaN   NaN   \n",
       "2                       0.479059                   NaN             NaN   NaN   \n",
       "3                       0.479059                   NaN             NaN   NaN   \n",
       "4                       0.479059                   NaN             NaN   NaN   \n",
       "5                       0.479059                   NaN             NaN   NaN   \n",
       "6                       0.479059                   NaN             NaN   NaN   \n",
       "7                       0.479059                   NaN             NaN   NaN   \n",
       "8                       0.479059                   NaN             NaN   NaN   \n",
       "9                       0.479059                   NaN             NaN   NaN   \n",
       "\n",
       "   boom_lift  boom_lower  boom_forward  boom_backward  drill_boom_turn_left  \\\n",
       "0        NaN         NaN           NaN            NaN                   NaN   \n",
       "1        NaN         NaN           NaN            NaN                   NaN   \n",
       "2        NaN         NaN           NaN            NaN                   NaN   \n",
       "3        NaN         NaN           NaN            NaN                   NaN   \n",
       "4        NaN         NaN           NaN            NaN                   NaN   \n",
       "5        NaN         NaN           NaN            NaN                   NaN   \n",
       "6        NaN         NaN           NaN            NaN                   NaN   \n",
       "7        NaN         NaN           NaN            NaN                   NaN   \n",
       "8        NaN         NaN           NaN            NaN                   NaN   \n",
       "9        NaN         NaN           NaN            NaN                   NaN   \n",
       "\n",
       "   drill_boom_turn_right  drill_boom_turn_forward  drill_boom_turn_backward  \\\n",
       "0                    NaN                      NaN                       NaN   \n",
       "1                    NaN                      NaN                       NaN   \n",
       "2                    NaN                      NaN                       NaN   \n",
       "3                    NaN                      NaN                       NaN   \n",
       "4                    NaN                      NaN                       NaN   \n",
       "5                    NaN                      NaN                       NaN   \n",
       "6                    NaN                      NaN                       NaN   \n",
       "7                    NaN                      NaN                       NaN   \n",
       "8                    NaN                      NaN                       NaN   \n",
       "9                    NaN                      NaN                       NaN   \n",
       "\n",
       "   beam_right  beam_left  anchor   activity  \n",
       "0         NaN        NaN     NaN       Idle  \n",
       "1         NaN        NaN     NaN       Idle  \n",
       "2         NaN        NaN     NaN       Idle  \n",
       "3         NaN        NaN     NaN  Traveling  \n",
       "4         NaN        NaN     NaN  Traveling  \n",
       "5         NaN        NaN     NaN  Traveling  \n",
       "6         NaN        NaN     NaN  Traveling  \n",
       "7         NaN        NaN     NaN  Traveling  \n",
       "8         NaN        NaN     NaN  Traveling  \n",
       "9         NaN        NaN     NaN  Traveling  "
      ],
      "text/html": "<div>\n<style scoped>\n    .dataframe tbody tr th:only-of-type {\n        vertical-align: middle;\n    }\n\n    .dataframe tbody tr th {\n        vertical-align: top;\n    }\n\n    .dataframe thead th {\n        text-align: right;\n    }\n</style>\n<table border=\"1\" class=\"dataframe\">\n  <thead>\n    <tr style=\"text-align: right;\">\n      <th></th>\n      <th>Unnamed: 0</th>\n      <th>timestamp</th>\n      <th>engine_speed</th>\n      <th>hydraulic_drive_off</th>\n      <th>drill_boom_in_anchor_position</th>\n      <th>pvalve_drill_forward</th>\n      <th>hydraulic_pump</th>\n      <th>bolt</th>\n      <th>boom_lift</th>\n      <th>boom_lower</th>\n      <th>boom_forward</th>\n      <th>boom_backward</th>\n      <th>drill_boom_turn_left</th>\n      <th>drill_boom_turn_right</th>\n      <th>drill_boom_turn_forward</th>\n      <th>drill_boom_turn_backward</th>\n      <th>beam_right</th>\n      <th>beam_left</th>\n      <th>anchor</th>\n      <th>activity</th>\n    </tr>\n  </thead>\n  <tbody>\n    <tr>\n      <th>0</th>\n      <td>0</td>\n      <td>1534192356</td>\n      <td>74.898806</td>\n      <td>0.0</td>\n      <td>0.479059</td>\n      <td>NaN</td>\n      <td>NaN</td>\n      <td>NaN</td>\n      <td>NaN</td>\n      <td>NaN</td>\n      <td>NaN</td>\n      <td>NaN</td>\n      <td>NaN</td>\n      <td>NaN</td>\n      <td>NaN</td>\n      <td>NaN</td>\n      <td>NaN</td>\n      <td>NaN</td>\n      <td>NaN</td>\n      <td>Idle</td>\n    </tr>\n    <tr>\n      <th>1</th>\n      <td>1</td>\n      <td>1534192357</td>\n      <td>75.139756</td>\n      <td>0.0</td>\n      <td>0.479059</td>\n      <td>NaN</td>\n      <td>NaN</td>\n      <td>NaN</td>\n      <td>NaN</td>\n      <td>NaN</td>\n      <td>NaN</td>\n      <td>NaN</td>\n      <td>NaN</td>\n      <td>NaN</td>\n      <td>NaN</td>\n      <td>NaN</td>\n      <td>NaN</td>\n      <td>NaN</td>\n      <td>NaN</td>\n      <td>Idle</td>\n    </tr>\n    <tr>\n      <th>2</th>\n      <td>2</td>\n      <td>1534192358</td>\n      <td>74.647495</td>\n      <td>0.0</td>\n      <td>0.479059</td>\n      <td>NaN</td>\n      <td>NaN</td>\n      <td>NaN</td>\n      <td>NaN</td>\n      <td>NaN</td>\n      <td>NaN</td>\n      <td>NaN</td>\n      <td>NaN</td>\n      <td>NaN</td>\n      <td>NaN</td>\n      <td>NaN</td>\n      <td>NaN</td>\n      <td>NaN</td>\n      <td>NaN</td>\n      <td>Idle</td>\n    </tr>\n    <tr>\n      <th>3</th>\n      <td>3</td>\n      <td>1534192359</td>\n      <td>106.015541</td>\n      <td>0.0</td>\n      <td>0.479059</td>\n      <td>NaN</td>\n      <td>NaN</td>\n      <td>NaN</td>\n      <td>NaN</td>\n      <td>NaN</td>\n      <td>NaN</td>\n      <td>NaN</td>\n      <td>NaN</td>\n      <td>NaN</td>\n      <td>NaN</td>\n      <td>NaN</td>\n      <td>NaN</td>\n      <td>NaN</td>\n      <td>NaN</td>\n      <td>Traveling</td>\n    </tr>\n    <tr>\n      <th>4</th>\n      <td>4</td>\n      <td>1534192360</td>\n      <td>95.702048</td>\n      <td>0.0</td>\n      <td>0.479059</td>\n      <td>NaN</td>\n      <td>NaN</td>\n      <td>NaN</td>\n      <td>NaN</td>\n      <td>NaN</td>\n      <td>NaN</td>\n      <td>NaN</td>\n      <td>NaN</td>\n      <td>NaN</td>\n      <td>NaN</td>\n      <td>NaN</td>\n      <td>NaN</td>\n      <td>NaN</td>\n      <td>NaN</td>\n      <td>Traveling</td>\n    </tr>\n    <tr>\n      <th>5</th>\n      <td>5</td>\n      <td>1534192361</td>\n      <td>77.171525</td>\n      <td>0.0</td>\n      <td>0.479059</td>\n      <td>NaN</td>\n      <td>NaN</td>\n      <td>NaN</td>\n      <td>NaN</td>\n      <td>NaN</td>\n      <td>NaN</td>\n      <td>NaN</td>\n      <td>NaN</td>\n      <td>NaN</td>\n      <td>NaN</td>\n      <td>NaN</td>\n      <td>NaN</td>\n      <td>NaN</td>\n      <td>NaN</td>\n      <td>Traveling</td>\n    </tr>\n    <tr>\n      <th>6</th>\n      <td>6</td>\n      <td>1534192362</td>\n      <td>84.900022</td>\n      <td>0.0</td>\n      <td>0.479059</td>\n      <td>NaN</td>\n      <td>NaN</td>\n      <td>NaN</td>\n      <td>NaN</td>\n      <td>NaN</td>\n      <td>NaN</td>\n      <td>NaN</td>\n      <td>NaN</td>\n      <td>NaN</td>\n      <td>NaN</td>\n      <td>NaN</td>\n      <td>NaN</td>\n      <td>NaN</td>\n      <td>NaN</td>\n      <td>Traveling</td>\n    </tr>\n    <tr>\n      <th>7</th>\n      <td>7</td>\n      <td>1534192363</td>\n      <td>104.028951</td>\n      <td>0.0</td>\n      <td>0.479059</td>\n      <td>NaN</td>\n      <td>NaN</td>\n      <td>NaN</td>\n      <td>NaN</td>\n      <td>NaN</td>\n      <td>NaN</td>\n      <td>NaN</td>\n      <td>NaN</td>\n      <td>NaN</td>\n      <td>NaN</td>\n      <td>NaN</td>\n      <td>NaN</td>\n      <td>NaN</td>\n      <td>NaN</td>\n      <td>Traveling</td>\n    </tr>\n    <tr>\n      <th>8</th>\n      <td>8</td>\n      <td>1534192364</td>\n      <td>111.430257</td>\n      <td>0.0</td>\n      <td>0.479059</td>\n      <td>NaN</td>\n      <td>NaN</td>\n      <td>NaN</td>\n      <td>NaN</td>\n      <td>NaN</td>\n      <td>NaN</td>\n      <td>NaN</td>\n      <td>NaN</td>\n      <td>NaN</td>\n      <td>NaN</td>\n      <td>NaN</td>\n      <td>NaN</td>\n      <td>NaN</td>\n      <td>NaN</td>\n      <td>Traveling</td>\n    </tr>\n    <tr>\n      <th>9</th>\n      <td>9</td>\n      <td>1534192365</td>\n      <td>92.677026</td>\n      <td>0.0</td>\n      <td>0.479059</td>\n      <td>NaN</td>\n      <td>NaN</td>\n      <td>NaN</td>\n      <td>NaN</td>\n      <td>NaN</td>\n      <td>NaN</td>\n      <td>NaN</td>\n      <td>NaN</td>\n      <td>NaN</td>\n      <td>NaN</td>\n      <td>NaN</td>\n      <td>NaN</td>\n      <td>NaN</td>\n      <td>NaN</td>\n      <td>Traveling</td>\n    </tr>\n  </tbody>\n</table>\n</div>"
     },
     "metadata": {},
     "execution_count": 406
    }
   ],
   "source": [
    "data.head(10)"
   ]
  },
  {
   "cell_type": "code",
   "execution_count": 407,
   "metadata": {},
   "outputs": [],
   "source": [
    "data = data.fillna(0)"
   ]
  },
  {
   "cell_type": "code",
   "execution_count": 408,
   "metadata": {},
   "outputs": [],
   "source": [
    "data['boom_long'] = data[['boom_lift', 'boom_lower']].mean(axis=1)"
   ]
  },
  {
   "cell_type": "code",
   "execution_count": 409,
   "metadata": {},
   "outputs": [
    {
     "output_type": "execute_result",
     "data": {
      "text/plain": [
       "   Unnamed: 0   timestamp  engine_speed  hydraulic_drive_off  \\\n",
       "0           0  1534192356     74.898806                  0.0   \n",
       "1           1  1534192357     75.139756                  0.0   \n",
       "2           2  1534192358     74.647495                  0.0   \n",
       "3           3  1534192359    106.015541                  0.0   \n",
       "4           4  1534192360     95.702048                  0.0   \n",
       "5           5  1534192361     77.171525                  0.0   \n",
       "6           6  1534192362     84.900022                  0.0   \n",
       "7           7  1534192363    104.028951                  0.0   \n",
       "8           8  1534192364    111.430257                  0.0   \n",
       "9           9  1534192365     92.677026                  0.0   \n",
       "\n",
       "   drill_boom_in_anchor_position  pvalve_drill_forward  hydraulic_pump  bolt  \\\n",
       "0                       0.479059                   0.0             0.0   0.0   \n",
       "1                       0.479059                   0.0             0.0   0.0   \n",
       "2                       0.479059                   0.0             0.0   0.0   \n",
       "3                       0.479059                   0.0             0.0   0.0   \n",
       "4                       0.479059                   0.0             0.0   0.0   \n",
       "5                       0.479059                   0.0             0.0   0.0   \n",
       "6                       0.479059                   0.0             0.0   0.0   \n",
       "7                       0.479059                   0.0             0.0   0.0   \n",
       "8                       0.479059                   0.0             0.0   0.0   \n",
       "9                       0.479059                   0.0             0.0   0.0   \n",
       "\n",
       "   boom_lift  boom_lower  ...  boom_backward  drill_boom_turn_left  \\\n",
       "0        0.0         0.0  ...            0.0                   0.0   \n",
       "1        0.0         0.0  ...            0.0                   0.0   \n",
       "2        0.0         0.0  ...            0.0                   0.0   \n",
       "3        0.0         0.0  ...            0.0                   0.0   \n",
       "4        0.0         0.0  ...            0.0                   0.0   \n",
       "5        0.0         0.0  ...            0.0                   0.0   \n",
       "6        0.0         0.0  ...            0.0                   0.0   \n",
       "7        0.0         0.0  ...            0.0                   0.0   \n",
       "8        0.0         0.0  ...            0.0                   0.0   \n",
       "9        0.0         0.0  ...            0.0                   0.0   \n",
       "\n",
       "   drill_boom_turn_right  drill_boom_turn_forward  drill_boom_turn_backward  \\\n",
       "0                    0.0                      0.0                       0.0   \n",
       "1                    0.0                      0.0                       0.0   \n",
       "2                    0.0                      0.0                       0.0   \n",
       "3                    0.0                      0.0                       0.0   \n",
       "4                    0.0                      0.0                       0.0   \n",
       "5                    0.0                      0.0                       0.0   \n",
       "6                    0.0                      0.0                       0.0   \n",
       "7                    0.0                      0.0                       0.0   \n",
       "8                    0.0                      0.0                       0.0   \n",
       "9                    0.0                      0.0                       0.0   \n",
       "\n",
       "   beam_right  beam_left  anchor   activity boom_long  \n",
       "0         0.0        0.0     0.0       Idle       0.0  \n",
       "1         0.0        0.0     0.0       Idle       0.0  \n",
       "2         0.0        0.0     0.0       Idle       0.0  \n",
       "3         0.0        0.0     0.0  Traveling       0.0  \n",
       "4         0.0        0.0     0.0  Traveling       0.0  \n",
       "5         0.0        0.0     0.0  Traveling       0.0  \n",
       "6         0.0        0.0     0.0  Traveling       0.0  \n",
       "7         0.0        0.0     0.0  Traveling       0.0  \n",
       "8         0.0        0.0     0.0  Traveling       0.0  \n",
       "9         0.0        0.0     0.0  Traveling       0.0  \n",
       "\n",
       "[10 rows x 21 columns]"
      ],
      "text/html": "<div>\n<style scoped>\n    .dataframe tbody tr th:only-of-type {\n        vertical-align: middle;\n    }\n\n    .dataframe tbody tr th {\n        vertical-align: top;\n    }\n\n    .dataframe thead th {\n        text-align: right;\n    }\n</style>\n<table border=\"1\" class=\"dataframe\">\n  <thead>\n    <tr style=\"text-align: right;\">\n      <th></th>\n      <th>Unnamed: 0</th>\n      <th>timestamp</th>\n      <th>engine_speed</th>\n      <th>hydraulic_drive_off</th>\n      <th>drill_boom_in_anchor_position</th>\n      <th>pvalve_drill_forward</th>\n      <th>hydraulic_pump</th>\n      <th>bolt</th>\n      <th>boom_lift</th>\n      <th>boom_lower</th>\n      <th>...</th>\n      <th>boom_backward</th>\n      <th>drill_boom_turn_left</th>\n      <th>drill_boom_turn_right</th>\n      <th>drill_boom_turn_forward</th>\n      <th>drill_boom_turn_backward</th>\n      <th>beam_right</th>\n      <th>beam_left</th>\n      <th>anchor</th>\n      <th>activity</th>\n      <th>boom_long</th>\n    </tr>\n  </thead>\n  <tbody>\n    <tr>\n      <th>0</th>\n      <td>0</td>\n      <td>1534192356</td>\n      <td>74.898806</td>\n      <td>0.0</td>\n      <td>0.479059</td>\n      <td>0.0</td>\n      <td>0.0</td>\n      <td>0.0</td>\n      <td>0.0</td>\n      <td>0.0</td>\n      <td>...</td>\n      <td>0.0</td>\n      <td>0.0</td>\n      <td>0.0</td>\n      <td>0.0</td>\n      <td>0.0</td>\n      <td>0.0</td>\n      <td>0.0</td>\n      <td>0.0</td>\n      <td>Idle</td>\n      <td>0.0</td>\n    </tr>\n    <tr>\n      <th>1</th>\n      <td>1</td>\n      <td>1534192357</td>\n      <td>75.139756</td>\n      <td>0.0</td>\n      <td>0.479059</td>\n      <td>0.0</td>\n      <td>0.0</td>\n      <td>0.0</td>\n      <td>0.0</td>\n      <td>0.0</td>\n      <td>...</td>\n      <td>0.0</td>\n      <td>0.0</td>\n      <td>0.0</td>\n      <td>0.0</td>\n      <td>0.0</td>\n      <td>0.0</td>\n      <td>0.0</td>\n      <td>0.0</td>\n      <td>Idle</td>\n      <td>0.0</td>\n    </tr>\n    <tr>\n      <th>2</th>\n      <td>2</td>\n      <td>1534192358</td>\n      <td>74.647495</td>\n      <td>0.0</td>\n      <td>0.479059</td>\n      <td>0.0</td>\n      <td>0.0</td>\n      <td>0.0</td>\n      <td>0.0</td>\n      <td>0.0</td>\n      <td>...</td>\n      <td>0.0</td>\n      <td>0.0</td>\n      <td>0.0</td>\n      <td>0.0</td>\n      <td>0.0</td>\n      <td>0.0</td>\n      <td>0.0</td>\n      <td>0.0</td>\n      <td>Idle</td>\n      <td>0.0</td>\n    </tr>\n    <tr>\n      <th>3</th>\n      <td>3</td>\n      <td>1534192359</td>\n      <td>106.015541</td>\n      <td>0.0</td>\n      <td>0.479059</td>\n      <td>0.0</td>\n      <td>0.0</td>\n      <td>0.0</td>\n      <td>0.0</td>\n      <td>0.0</td>\n      <td>...</td>\n      <td>0.0</td>\n      <td>0.0</td>\n      <td>0.0</td>\n      <td>0.0</td>\n      <td>0.0</td>\n      <td>0.0</td>\n      <td>0.0</td>\n      <td>0.0</td>\n      <td>Traveling</td>\n      <td>0.0</td>\n    </tr>\n    <tr>\n      <th>4</th>\n      <td>4</td>\n      <td>1534192360</td>\n      <td>95.702048</td>\n      <td>0.0</td>\n      <td>0.479059</td>\n      <td>0.0</td>\n      <td>0.0</td>\n      <td>0.0</td>\n      <td>0.0</td>\n      <td>0.0</td>\n      <td>...</td>\n      <td>0.0</td>\n      <td>0.0</td>\n      <td>0.0</td>\n      <td>0.0</td>\n      <td>0.0</td>\n      <td>0.0</td>\n      <td>0.0</td>\n      <td>0.0</td>\n      <td>Traveling</td>\n      <td>0.0</td>\n    </tr>\n    <tr>\n      <th>5</th>\n      <td>5</td>\n      <td>1534192361</td>\n      <td>77.171525</td>\n      <td>0.0</td>\n      <td>0.479059</td>\n      <td>0.0</td>\n      <td>0.0</td>\n      <td>0.0</td>\n      <td>0.0</td>\n      <td>0.0</td>\n      <td>...</td>\n      <td>0.0</td>\n      <td>0.0</td>\n      <td>0.0</td>\n      <td>0.0</td>\n      <td>0.0</td>\n      <td>0.0</td>\n      <td>0.0</td>\n      <td>0.0</td>\n      <td>Traveling</td>\n      <td>0.0</td>\n    </tr>\n    <tr>\n      <th>6</th>\n      <td>6</td>\n      <td>1534192362</td>\n      <td>84.900022</td>\n      <td>0.0</td>\n      <td>0.479059</td>\n      <td>0.0</td>\n      <td>0.0</td>\n      <td>0.0</td>\n      <td>0.0</td>\n      <td>0.0</td>\n      <td>...</td>\n      <td>0.0</td>\n      <td>0.0</td>\n      <td>0.0</td>\n      <td>0.0</td>\n      <td>0.0</td>\n      <td>0.0</td>\n      <td>0.0</td>\n      <td>0.0</td>\n      <td>Traveling</td>\n      <td>0.0</td>\n    </tr>\n    <tr>\n      <th>7</th>\n      <td>7</td>\n      <td>1534192363</td>\n      <td>104.028951</td>\n      <td>0.0</td>\n      <td>0.479059</td>\n      <td>0.0</td>\n      <td>0.0</td>\n      <td>0.0</td>\n      <td>0.0</td>\n      <td>0.0</td>\n      <td>...</td>\n      <td>0.0</td>\n      <td>0.0</td>\n      <td>0.0</td>\n      <td>0.0</td>\n      <td>0.0</td>\n      <td>0.0</td>\n      <td>0.0</td>\n      <td>0.0</td>\n      <td>Traveling</td>\n      <td>0.0</td>\n    </tr>\n    <tr>\n      <th>8</th>\n      <td>8</td>\n      <td>1534192364</td>\n      <td>111.430257</td>\n      <td>0.0</td>\n      <td>0.479059</td>\n      <td>0.0</td>\n      <td>0.0</td>\n      <td>0.0</td>\n      <td>0.0</td>\n      <td>0.0</td>\n      <td>...</td>\n      <td>0.0</td>\n      <td>0.0</td>\n      <td>0.0</td>\n      <td>0.0</td>\n      <td>0.0</td>\n      <td>0.0</td>\n      <td>0.0</td>\n      <td>0.0</td>\n      <td>Traveling</td>\n      <td>0.0</td>\n    </tr>\n    <tr>\n      <th>9</th>\n      <td>9</td>\n      <td>1534192365</td>\n      <td>92.677026</td>\n      <td>0.0</td>\n      <td>0.479059</td>\n      <td>0.0</td>\n      <td>0.0</td>\n      <td>0.0</td>\n      <td>0.0</td>\n      <td>0.0</td>\n      <td>...</td>\n      <td>0.0</td>\n      <td>0.0</td>\n      <td>0.0</td>\n      <td>0.0</td>\n      <td>0.0</td>\n      <td>0.0</td>\n      <td>0.0</td>\n      <td>0.0</td>\n      <td>Traveling</td>\n      <td>0.0</td>\n    </tr>\n  </tbody>\n</table>\n<p>10 rows × 21 columns</p>\n</div>"
     },
     "metadata": {},
     "execution_count": 409
    }
   ],
   "source": [
    "data.head(10)"
   ]
  },
  {
   "cell_type": "code",
   "execution_count": 410,
   "metadata": {},
   "outputs": [],
   "source": [
    "data['boom_lati'] = data[['boom_forward', 'boom_backward']].mean(axis=1)"
   ]
  },
  {
   "cell_type": "code",
   "execution_count": 411,
   "metadata": {},
   "outputs": [],
   "source": [
    "data['drill_boom_long'] = data[['drill_boom_turn_left', 'drill_boom_turn_right']].mean(axis=1)"
   ]
  },
  {
   "cell_type": "code",
   "execution_count": 412,
   "metadata": {},
   "outputs": [],
   "source": [
    "data['drill_boom_lati'] = data[['drill_boom_turn_forward', 'drill_boom_turn_backward']].mean(axis=1)"
   ]
  },
  {
   "cell_type": "code",
   "execution_count": 413,
   "metadata": {},
   "outputs": [],
   "source": [
    "data['beam'] = data[['beam_left', 'beam_right']].mean(axis=1)"
   ]
  },
  {
   "cell_type": "code",
   "execution_count": 414,
   "metadata": {},
   "outputs": [
    {
     "output_type": "execute_result",
     "data": {
      "text/plain": [
       "   Unnamed: 0   timestamp  engine_speed  hydraulic_drive_off  \\\n",
       "0           0  1534192356     74.898806                  0.0   \n",
       "1           1  1534192357     75.139756                  0.0   \n",
       "2           2  1534192358     74.647495                  0.0   \n",
       "3           3  1534192359    106.015541                  0.0   \n",
       "4           4  1534192360     95.702048                  0.0   \n",
       "5           5  1534192361     77.171525                  0.0   \n",
       "6           6  1534192362     84.900022                  0.0   \n",
       "7           7  1534192363    104.028951                  0.0   \n",
       "8           8  1534192364    111.430257                  0.0   \n",
       "9           9  1534192365     92.677026                  0.0   \n",
       "\n",
       "   drill_boom_in_anchor_position  pvalve_drill_forward  hydraulic_pump  bolt  \\\n",
       "0                       0.479059                   0.0             0.0   0.0   \n",
       "1                       0.479059                   0.0             0.0   0.0   \n",
       "2                       0.479059                   0.0             0.0   0.0   \n",
       "3                       0.479059                   0.0             0.0   0.0   \n",
       "4                       0.479059                   0.0             0.0   0.0   \n",
       "5                       0.479059                   0.0             0.0   0.0   \n",
       "6                       0.479059                   0.0             0.0   0.0   \n",
       "7                       0.479059                   0.0             0.0   0.0   \n",
       "8                       0.479059                   0.0             0.0   0.0   \n",
       "9                       0.479059                   0.0             0.0   0.0   \n",
       "\n",
       "   boom_lift  boom_lower  ...  drill_boom_turn_backward  beam_right  \\\n",
       "0        0.0         0.0  ...                       0.0         0.0   \n",
       "1        0.0         0.0  ...                       0.0         0.0   \n",
       "2        0.0         0.0  ...                       0.0         0.0   \n",
       "3        0.0         0.0  ...                       0.0         0.0   \n",
       "4        0.0         0.0  ...                       0.0         0.0   \n",
       "5        0.0         0.0  ...                       0.0         0.0   \n",
       "6        0.0         0.0  ...                       0.0         0.0   \n",
       "7        0.0         0.0  ...                       0.0         0.0   \n",
       "8        0.0         0.0  ...                       0.0         0.0   \n",
       "9        0.0         0.0  ...                       0.0         0.0   \n",
       "\n",
       "   beam_left  anchor   activity  boom_long  boom_lati  drill_boom_long  \\\n",
       "0        0.0     0.0       Idle        0.0        0.0              0.0   \n",
       "1        0.0     0.0       Idle        0.0        0.0              0.0   \n",
       "2        0.0     0.0       Idle        0.0        0.0              0.0   \n",
       "3        0.0     0.0  Traveling        0.0        0.0              0.0   \n",
       "4        0.0     0.0  Traveling        0.0        0.0              0.0   \n",
       "5        0.0     0.0  Traveling        0.0        0.0              0.0   \n",
       "6        0.0     0.0  Traveling        0.0        0.0              0.0   \n",
       "7        0.0     0.0  Traveling        0.0        0.0              0.0   \n",
       "8        0.0     0.0  Traveling        0.0        0.0              0.0   \n",
       "9        0.0     0.0  Traveling        0.0        0.0              0.0   \n",
       "\n",
       "   drill_boom_lati beam  \n",
       "0              0.0  0.0  \n",
       "1              0.0  0.0  \n",
       "2              0.0  0.0  \n",
       "3              0.0  0.0  \n",
       "4              0.0  0.0  \n",
       "5              0.0  0.0  \n",
       "6              0.0  0.0  \n",
       "7              0.0  0.0  \n",
       "8              0.0  0.0  \n",
       "9              0.0  0.0  \n",
       "\n",
       "[10 rows x 25 columns]"
      ],
      "text/html": "<div>\n<style scoped>\n    .dataframe tbody tr th:only-of-type {\n        vertical-align: middle;\n    }\n\n    .dataframe tbody tr th {\n        vertical-align: top;\n    }\n\n    .dataframe thead th {\n        text-align: right;\n    }\n</style>\n<table border=\"1\" class=\"dataframe\">\n  <thead>\n    <tr style=\"text-align: right;\">\n      <th></th>\n      <th>Unnamed: 0</th>\n      <th>timestamp</th>\n      <th>engine_speed</th>\n      <th>hydraulic_drive_off</th>\n      <th>drill_boom_in_anchor_position</th>\n      <th>pvalve_drill_forward</th>\n      <th>hydraulic_pump</th>\n      <th>bolt</th>\n      <th>boom_lift</th>\n      <th>boom_lower</th>\n      <th>...</th>\n      <th>drill_boom_turn_backward</th>\n      <th>beam_right</th>\n      <th>beam_left</th>\n      <th>anchor</th>\n      <th>activity</th>\n      <th>boom_long</th>\n      <th>boom_lati</th>\n      <th>drill_boom_long</th>\n      <th>drill_boom_lati</th>\n      <th>beam</th>\n    </tr>\n  </thead>\n  <tbody>\n    <tr>\n      <th>0</th>\n      <td>0</td>\n      <td>1534192356</td>\n      <td>74.898806</td>\n      <td>0.0</td>\n      <td>0.479059</td>\n      <td>0.0</td>\n      <td>0.0</td>\n      <td>0.0</td>\n      <td>0.0</td>\n      <td>0.0</td>\n      <td>...</td>\n      <td>0.0</td>\n      <td>0.0</td>\n      <td>0.0</td>\n      <td>0.0</td>\n      <td>Idle</td>\n      <td>0.0</td>\n      <td>0.0</td>\n      <td>0.0</td>\n      <td>0.0</td>\n      <td>0.0</td>\n    </tr>\n    <tr>\n      <th>1</th>\n      <td>1</td>\n      <td>1534192357</td>\n      <td>75.139756</td>\n      <td>0.0</td>\n      <td>0.479059</td>\n      <td>0.0</td>\n      <td>0.0</td>\n      <td>0.0</td>\n      <td>0.0</td>\n      <td>0.0</td>\n      <td>...</td>\n      <td>0.0</td>\n      <td>0.0</td>\n      <td>0.0</td>\n      <td>0.0</td>\n      <td>Idle</td>\n      <td>0.0</td>\n      <td>0.0</td>\n      <td>0.0</td>\n      <td>0.0</td>\n      <td>0.0</td>\n    </tr>\n    <tr>\n      <th>2</th>\n      <td>2</td>\n      <td>1534192358</td>\n      <td>74.647495</td>\n      <td>0.0</td>\n      <td>0.479059</td>\n      <td>0.0</td>\n      <td>0.0</td>\n      <td>0.0</td>\n      <td>0.0</td>\n      <td>0.0</td>\n      <td>...</td>\n      <td>0.0</td>\n      <td>0.0</td>\n      <td>0.0</td>\n      <td>0.0</td>\n      <td>Idle</td>\n      <td>0.0</td>\n      <td>0.0</td>\n      <td>0.0</td>\n      <td>0.0</td>\n      <td>0.0</td>\n    </tr>\n    <tr>\n      <th>3</th>\n      <td>3</td>\n      <td>1534192359</td>\n      <td>106.015541</td>\n      <td>0.0</td>\n      <td>0.479059</td>\n      <td>0.0</td>\n      <td>0.0</td>\n      <td>0.0</td>\n      <td>0.0</td>\n      <td>0.0</td>\n      <td>...</td>\n      <td>0.0</td>\n      <td>0.0</td>\n      <td>0.0</td>\n      <td>0.0</td>\n      <td>Traveling</td>\n      <td>0.0</td>\n      <td>0.0</td>\n      <td>0.0</td>\n      <td>0.0</td>\n      <td>0.0</td>\n    </tr>\n    <tr>\n      <th>4</th>\n      <td>4</td>\n      <td>1534192360</td>\n      <td>95.702048</td>\n      <td>0.0</td>\n      <td>0.479059</td>\n      <td>0.0</td>\n      <td>0.0</td>\n      <td>0.0</td>\n      <td>0.0</td>\n      <td>0.0</td>\n      <td>...</td>\n      <td>0.0</td>\n      <td>0.0</td>\n      <td>0.0</td>\n      <td>0.0</td>\n      <td>Traveling</td>\n      <td>0.0</td>\n      <td>0.0</td>\n      <td>0.0</td>\n      <td>0.0</td>\n      <td>0.0</td>\n    </tr>\n    <tr>\n      <th>5</th>\n      <td>5</td>\n      <td>1534192361</td>\n      <td>77.171525</td>\n      <td>0.0</td>\n      <td>0.479059</td>\n      <td>0.0</td>\n      <td>0.0</td>\n      <td>0.0</td>\n      <td>0.0</td>\n      <td>0.0</td>\n      <td>...</td>\n      <td>0.0</td>\n      <td>0.0</td>\n      <td>0.0</td>\n      <td>0.0</td>\n      <td>Traveling</td>\n      <td>0.0</td>\n      <td>0.0</td>\n      <td>0.0</td>\n      <td>0.0</td>\n      <td>0.0</td>\n    </tr>\n    <tr>\n      <th>6</th>\n      <td>6</td>\n      <td>1534192362</td>\n      <td>84.900022</td>\n      <td>0.0</td>\n      <td>0.479059</td>\n      <td>0.0</td>\n      <td>0.0</td>\n      <td>0.0</td>\n      <td>0.0</td>\n      <td>0.0</td>\n      <td>...</td>\n      <td>0.0</td>\n      <td>0.0</td>\n      <td>0.0</td>\n      <td>0.0</td>\n      <td>Traveling</td>\n      <td>0.0</td>\n      <td>0.0</td>\n      <td>0.0</td>\n      <td>0.0</td>\n      <td>0.0</td>\n    </tr>\n    <tr>\n      <th>7</th>\n      <td>7</td>\n      <td>1534192363</td>\n      <td>104.028951</td>\n      <td>0.0</td>\n      <td>0.479059</td>\n      <td>0.0</td>\n      <td>0.0</td>\n      <td>0.0</td>\n      <td>0.0</td>\n      <td>0.0</td>\n      <td>...</td>\n      <td>0.0</td>\n      <td>0.0</td>\n      <td>0.0</td>\n      <td>0.0</td>\n      <td>Traveling</td>\n      <td>0.0</td>\n      <td>0.0</td>\n      <td>0.0</td>\n      <td>0.0</td>\n      <td>0.0</td>\n    </tr>\n    <tr>\n      <th>8</th>\n      <td>8</td>\n      <td>1534192364</td>\n      <td>111.430257</td>\n      <td>0.0</td>\n      <td>0.479059</td>\n      <td>0.0</td>\n      <td>0.0</td>\n      <td>0.0</td>\n      <td>0.0</td>\n      <td>0.0</td>\n      <td>...</td>\n      <td>0.0</td>\n      <td>0.0</td>\n      <td>0.0</td>\n      <td>0.0</td>\n      <td>Traveling</td>\n      <td>0.0</td>\n      <td>0.0</td>\n      <td>0.0</td>\n      <td>0.0</td>\n      <td>0.0</td>\n    </tr>\n    <tr>\n      <th>9</th>\n      <td>9</td>\n      <td>1534192365</td>\n      <td>92.677026</td>\n      <td>0.0</td>\n      <td>0.479059</td>\n      <td>0.0</td>\n      <td>0.0</td>\n      <td>0.0</td>\n      <td>0.0</td>\n      <td>0.0</td>\n      <td>...</td>\n      <td>0.0</td>\n      <td>0.0</td>\n      <td>0.0</td>\n      <td>0.0</td>\n      <td>Traveling</td>\n      <td>0.0</td>\n      <td>0.0</td>\n      <td>0.0</td>\n      <td>0.0</td>\n      <td>0.0</td>\n    </tr>\n  </tbody>\n</table>\n<p>10 rows × 25 columns</p>\n</div>"
     },
     "metadata": {},
     "execution_count": 414
    }
   ],
   "source": [
    "data.head(10)"
   ]
  },
  {
   "cell_type": "code",
   "execution_count": 415,
   "metadata": {},
   "outputs": [],
   "source": [
    "data_new = data[['engine_speed', 'hydraulic_drive_off','drill_boom_in_anchor_position','pvalve_drill_forward', 'bolt', 'boom_long', 'boom_lati', 'drill_boom_long', 'drill_boom_lati', 'beam']]"
   ]
  },
  {
   "cell_type": "code",
   "execution_count": 416,
   "metadata": {},
   "outputs": [
    {
     "output_type": "execute_result",
     "data": {
      "text/plain": [
       "    engine_speed  hydraulic_drive_off  drill_boom_in_anchor_position  \\\n",
       "0      74.898806                  0.0                       0.479059   \n",
       "1      75.139756                  0.0                       0.479059   \n",
       "2      74.647495                  0.0                       0.479059   \n",
       "3     106.015541                  0.0                       0.479059   \n",
       "4      95.702048                  0.0                       0.479059   \n",
       "5      77.171525                  0.0                       0.479059   \n",
       "6      84.900022                  0.0                       0.479059   \n",
       "7     104.028951                  0.0                       0.479059   \n",
       "8     111.430257                  0.0                       0.479059   \n",
       "9      92.677026                  0.0                       0.479059   \n",
       "10    133.031372                  0.0                       0.479059   \n",
       "11    129.854070                  0.0                       0.479059   \n",
       "12    121.038514                  0.0                       0.479059   \n",
       "13    137.940307                  0.0                       0.479059   \n",
       "14    147.569431                  0.0                       0.479059   \n",
       "15     74.823971                  0.0                       0.479059   \n",
       "16    143.585302                  0.0                       0.479059   \n",
       "17    144.758631                  0.0                       0.479059   \n",
       "18    143.039391                  0.0                       0.479059   \n",
       "19    123.766659                  0.0                       0.479059   \n",
       "\n",
       "    pvalve_drill_forward  bolt  boom_long  boom_lati  drill_boom_long  \\\n",
       "0                    0.0   0.0        0.0        0.0              0.0   \n",
       "1                    0.0   0.0        0.0        0.0              0.0   \n",
       "2                    0.0   0.0        0.0        0.0              0.0   \n",
       "3                    0.0   0.0        0.0        0.0              0.0   \n",
       "4                    0.0   0.0        0.0        0.0              0.0   \n",
       "5                    0.0   0.0        0.0        0.0              0.0   \n",
       "6                    0.0   0.0        0.0        0.0              0.0   \n",
       "7                    0.0   0.0        0.0        0.0              0.0   \n",
       "8                    0.0   0.0        0.0        0.0              0.0   \n",
       "9                    0.0   0.0        0.0        0.0              0.0   \n",
       "10                   0.0   0.0        0.0        0.0              0.0   \n",
       "11                   0.0   0.0        0.0        0.0              0.0   \n",
       "12                   0.0   0.0        0.0        0.0              0.0   \n",
       "13                   0.0   0.0        0.0        0.0              0.0   \n",
       "14                   0.0   0.0        0.0        0.0              0.0   \n",
       "15                   0.0   0.0        0.0        0.0              0.0   \n",
       "16                   0.0   0.0        0.0        0.0              0.0   \n",
       "17                   0.0   0.0        0.0        0.0              0.0   \n",
       "18                   0.0   0.0        0.0        0.0              0.0   \n",
       "19                   0.0   0.0        0.0        0.0              0.0   \n",
       "\n",
       "    drill_boom_lati  beam  \n",
       "0               0.0   0.0  \n",
       "1               0.0   0.0  \n",
       "2               0.0   0.0  \n",
       "3               0.0   0.0  \n",
       "4               0.0   0.0  \n",
       "5               0.0   0.0  \n",
       "6               0.0   0.0  \n",
       "7               0.0   0.0  \n",
       "8               0.0   0.0  \n",
       "9               0.0   0.0  \n",
       "10              0.0   0.0  \n",
       "11              0.0   0.0  \n",
       "12              0.0   0.0  \n",
       "13              0.0   0.0  \n",
       "14              0.0   0.0  \n",
       "15              0.0   0.0  \n",
       "16              0.0   0.0  \n",
       "17              0.0   0.0  \n",
       "18              0.0   0.0  \n",
       "19              0.0   0.0  "
      ],
      "text/html": "<div>\n<style scoped>\n    .dataframe tbody tr th:only-of-type {\n        vertical-align: middle;\n    }\n\n    .dataframe tbody tr th {\n        vertical-align: top;\n    }\n\n    .dataframe thead th {\n        text-align: right;\n    }\n</style>\n<table border=\"1\" class=\"dataframe\">\n  <thead>\n    <tr style=\"text-align: right;\">\n      <th></th>\n      <th>engine_speed</th>\n      <th>hydraulic_drive_off</th>\n      <th>drill_boom_in_anchor_position</th>\n      <th>pvalve_drill_forward</th>\n      <th>bolt</th>\n      <th>boom_long</th>\n      <th>boom_lati</th>\n      <th>drill_boom_long</th>\n      <th>drill_boom_lati</th>\n      <th>beam</th>\n    </tr>\n  </thead>\n  <tbody>\n    <tr>\n      <th>0</th>\n      <td>74.898806</td>\n      <td>0.0</td>\n      <td>0.479059</td>\n      <td>0.0</td>\n      <td>0.0</td>\n      <td>0.0</td>\n      <td>0.0</td>\n      <td>0.0</td>\n      <td>0.0</td>\n      <td>0.0</td>\n    </tr>\n    <tr>\n      <th>1</th>\n      <td>75.139756</td>\n      <td>0.0</td>\n      <td>0.479059</td>\n      <td>0.0</td>\n      <td>0.0</td>\n      <td>0.0</td>\n      <td>0.0</td>\n      <td>0.0</td>\n      <td>0.0</td>\n      <td>0.0</td>\n    </tr>\n    <tr>\n      <th>2</th>\n      <td>74.647495</td>\n      <td>0.0</td>\n      <td>0.479059</td>\n      <td>0.0</td>\n      <td>0.0</td>\n      <td>0.0</td>\n      <td>0.0</td>\n      <td>0.0</td>\n      <td>0.0</td>\n      <td>0.0</td>\n    </tr>\n    <tr>\n      <th>3</th>\n      <td>106.015541</td>\n      <td>0.0</td>\n      <td>0.479059</td>\n      <td>0.0</td>\n      <td>0.0</td>\n      <td>0.0</td>\n      <td>0.0</td>\n      <td>0.0</td>\n      <td>0.0</td>\n      <td>0.0</td>\n    </tr>\n    <tr>\n      <th>4</th>\n      <td>95.702048</td>\n      <td>0.0</td>\n      <td>0.479059</td>\n      <td>0.0</td>\n      <td>0.0</td>\n      <td>0.0</td>\n      <td>0.0</td>\n      <td>0.0</td>\n      <td>0.0</td>\n      <td>0.0</td>\n    </tr>\n    <tr>\n      <th>5</th>\n      <td>77.171525</td>\n      <td>0.0</td>\n      <td>0.479059</td>\n      <td>0.0</td>\n      <td>0.0</td>\n      <td>0.0</td>\n      <td>0.0</td>\n      <td>0.0</td>\n      <td>0.0</td>\n      <td>0.0</td>\n    </tr>\n    <tr>\n      <th>6</th>\n      <td>84.900022</td>\n      <td>0.0</td>\n      <td>0.479059</td>\n      <td>0.0</td>\n      <td>0.0</td>\n      <td>0.0</td>\n      <td>0.0</td>\n      <td>0.0</td>\n      <td>0.0</td>\n      <td>0.0</td>\n    </tr>\n    <tr>\n      <th>7</th>\n      <td>104.028951</td>\n      <td>0.0</td>\n      <td>0.479059</td>\n      <td>0.0</td>\n      <td>0.0</td>\n      <td>0.0</td>\n      <td>0.0</td>\n      <td>0.0</td>\n      <td>0.0</td>\n      <td>0.0</td>\n    </tr>\n    <tr>\n      <th>8</th>\n      <td>111.430257</td>\n      <td>0.0</td>\n      <td>0.479059</td>\n      <td>0.0</td>\n      <td>0.0</td>\n      <td>0.0</td>\n      <td>0.0</td>\n      <td>0.0</td>\n      <td>0.0</td>\n      <td>0.0</td>\n    </tr>\n    <tr>\n      <th>9</th>\n      <td>92.677026</td>\n      <td>0.0</td>\n      <td>0.479059</td>\n      <td>0.0</td>\n      <td>0.0</td>\n      <td>0.0</td>\n      <td>0.0</td>\n      <td>0.0</td>\n      <td>0.0</td>\n      <td>0.0</td>\n    </tr>\n    <tr>\n      <th>10</th>\n      <td>133.031372</td>\n      <td>0.0</td>\n      <td>0.479059</td>\n      <td>0.0</td>\n      <td>0.0</td>\n      <td>0.0</td>\n      <td>0.0</td>\n      <td>0.0</td>\n      <td>0.0</td>\n      <td>0.0</td>\n    </tr>\n    <tr>\n      <th>11</th>\n      <td>129.854070</td>\n      <td>0.0</td>\n      <td>0.479059</td>\n      <td>0.0</td>\n      <td>0.0</td>\n      <td>0.0</td>\n      <td>0.0</td>\n      <td>0.0</td>\n      <td>0.0</td>\n      <td>0.0</td>\n    </tr>\n    <tr>\n      <th>12</th>\n      <td>121.038514</td>\n      <td>0.0</td>\n      <td>0.479059</td>\n      <td>0.0</td>\n      <td>0.0</td>\n      <td>0.0</td>\n      <td>0.0</td>\n      <td>0.0</td>\n      <td>0.0</td>\n      <td>0.0</td>\n    </tr>\n    <tr>\n      <th>13</th>\n      <td>137.940307</td>\n      <td>0.0</td>\n      <td>0.479059</td>\n      <td>0.0</td>\n      <td>0.0</td>\n      <td>0.0</td>\n      <td>0.0</td>\n      <td>0.0</td>\n      <td>0.0</td>\n      <td>0.0</td>\n    </tr>\n    <tr>\n      <th>14</th>\n      <td>147.569431</td>\n      <td>0.0</td>\n      <td>0.479059</td>\n      <td>0.0</td>\n      <td>0.0</td>\n      <td>0.0</td>\n      <td>0.0</td>\n      <td>0.0</td>\n      <td>0.0</td>\n      <td>0.0</td>\n    </tr>\n    <tr>\n      <th>15</th>\n      <td>74.823971</td>\n      <td>0.0</td>\n      <td>0.479059</td>\n      <td>0.0</td>\n      <td>0.0</td>\n      <td>0.0</td>\n      <td>0.0</td>\n      <td>0.0</td>\n      <td>0.0</td>\n      <td>0.0</td>\n    </tr>\n    <tr>\n      <th>16</th>\n      <td>143.585302</td>\n      <td>0.0</td>\n      <td>0.479059</td>\n      <td>0.0</td>\n      <td>0.0</td>\n      <td>0.0</td>\n      <td>0.0</td>\n      <td>0.0</td>\n      <td>0.0</td>\n      <td>0.0</td>\n    </tr>\n    <tr>\n      <th>17</th>\n      <td>144.758631</td>\n      <td>0.0</td>\n      <td>0.479059</td>\n      <td>0.0</td>\n      <td>0.0</td>\n      <td>0.0</td>\n      <td>0.0</td>\n      <td>0.0</td>\n      <td>0.0</td>\n      <td>0.0</td>\n    </tr>\n    <tr>\n      <th>18</th>\n      <td>143.039391</td>\n      <td>0.0</td>\n      <td>0.479059</td>\n      <td>0.0</td>\n      <td>0.0</td>\n      <td>0.0</td>\n      <td>0.0</td>\n      <td>0.0</td>\n      <td>0.0</td>\n      <td>0.0</td>\n    </tr>\n    <tr>\n      <th>19</th>\n      <td>123.766659</td>\n      <td>0.0</td>\n      <td>0.479059</td>\n      <td>0.0</td>\n      <td>0.0</td>\n      <td>0.0</td>\n      <td>0.0</td>\n      <td>0.0</td>\n      <td>0.0</td>\n      <td>0.0</td>\n    </tr>\n  </tbody>\n</table>\n</div>"
     },
     "metadata": {},
     "execution_count": 416
    }
   ],
   "source": [
    "data_new.head(20)"
   ]
  },
  {
   "cell_type": "code",
   "execution_count": 417,
   "metadata": {},
   "outputs": [
    {
     "output_type": "execute_result",
     "data": {
      "text/plain": [
       "engine_speed                      34.089421\n",
       "hydraulic_drive_off                0.033535\n",
       "drill_boom_in_anchor_position      0.202425\n",
       "pvalve_drill_forward             436.282657\n",
       "bolt                               0.152337\n",
       "boom_long                          0.008629\n",
       "boom_lati                          0.404745\n",
       "drill_boom_long                    0.019965\n",
       "drill_boom_lati                    0.006280\n",
       "beam                               0.004941\n",
       "dtype: float64"
      ]
     },
     "metadata": {},
     "execution_count": 417
    }
   ],
   "source": [
    "data_new.mean()"
   ]
  },
  {
   "cell_type": "code",
   "execution_count": 418,
   "metadata": {},
   "outputs": [],
   "source": [
    "#normalized_df=(data_new-data_new.min())/(data_new.max()-data_new.min())\n",
    "normalized_data=(data_new-data_new.mean())/data_new.std()"
   ]
  },
  {
   "cell_type": "code",
   "execution_count": 419,
   "metadata": {},
   "outputs": [
    {
     "output_type": "execute_result",
     "data": {
      "text/plain": [
       "engine_speed                     1.0\n",
       "hydraulic_drive_off              1.0\n",
       "drill_boom_in_anchor_position    1.0\n",
       "pvalve_drill_forward             1.0\n",
       "bolt                             1.0\n",
       "boom_long                        1.0\n",
       "boom_lati                        1.0\n",
       "drill_boom_long                  1.0\n",
       "drill_boom_lati                  1.0\n",
       "beam                             1.0\n",
       "dtype: float64"
      ]
     },
     "metadata": {},
     "execution_count": 419
    }
   ],
   "source": [
    "normalized_data.std()"
   ]
  },
  {
   "cell_type": "code",
   "execution_count": 420,
   "metadata": {},
   "outputs": [],
   "source": [
    "loaded_model = joblib.load('model.pkl')"
   ]
  },
  {
   "cell_type": "code",
   "execution_count": 421,
   "metadata": {},
   "outputs": [],
   "source": [
    "predicted_activity = loaded_model.predict(normalized_data)"
   ]
  },
  {
   "cell_type": "code",
   "execution_count": 422,
   "metadata": {},
   "outputs": [
    {
     "output_type": "execute_result",
     "data": {
      "text/plain": [
       "numpy.ndarray"
      ]
     },
     "metadata": {},
     "execution_count": 422
    }
   ],
   "source": [
    "type(predicted_activity)"
   ]
  },
  {
   "cell_type": "code",
   "execution_count": 423,
   "metadata": {},
   "outputs": [
    {
     "output_type": "stream",
     "name": "stdout",
     "text": [
      "['Idle' 'Idle' 'Idle' ... 'Idle' 'Idle' 'Idle']\n"
     ]
    }
   ],
   "source": [
    "print(predicted_activity)"
   ]
  },
  {
   "cell_type": "code",
   "execution_count": 424,
   "metadata": {},
   "outputs": [
    {
     "output_type": "execute_result",
     "data": {
      "text/plain": [
       "array(['Anchoring', 'Drilling', 'Hole Setup', 'Idle', 'Machine Off',\n",
       "       'Transitional Delay', 'Traveling'], dtype=object)"
      ]
     },
     "metadata": {},
     "execution_count": 424
    }
   ],
   "source": [
    "import numpy as np\n",
    "np.unique(predicted_data)"
   ]
  },
  {
   "cell_type": "code",
   "execution_count": 425,
   "metadata": {},
   "outputs": [],
   "source": [
    "speed_data = data[['timestamp','engine_speed']]"
   ]
  },
  {
   "cell_type": "code",
   "execution_count": 426,
   "metadata": {},
   "outputs": [
    {
     "output_type": "execute_result",
     "data": {
      "text/plain": [
       "53.16806"
      ]
     },
     "metadata": {},
     "execution_count": 426
    }
   ],
   "source": [
    "speed_data['engine_speed'].head(300).mean().round(decimals=5)"
   ]
  },
  {
   "cell_type": "code",
   "execution_count": 427,
   "metadata": {},
   "outputs": [],
   "source": [
    "#speed_data['timestamp'] = pd.to_datetime(speed_data['timestamp'], unit=\"s\")"
   ]
  },
  {
   "cell_type": "code",
   "execution_count": 428,
   "metadata": {},
   "outputs": [],
   "source": [
    "speed_data['average_speed'] = speed_data['engine_speed'].rolling(300,center=False).mean()\n",
    "#speed_data.rolling(2).mean()\n",
    "#speed_data[average] = speed_data.groupby(speed_data.index // 300).mean()"
   ]
  },
  {
   "cell_type": "code",
   "execution_count": 429,
   "metadata": {},
   "outputs": [],
   "source": [
    "speed_data = speed_data.iloc[::300, :]\n"
   ]
  },
  {
   "cell_type": "code",
   "execution_count": 430,
   "metadata": {},
   "outputs": [],
   "source": [
    "speed_data['average_speed']=speed_data['average_speed'].round(decimals=5)"
   ]
  },
  {
   "cell_type": "code",
   "execution_count": 431,
   "metadata": {},
   "outputs": [
    {
     "output_type": "execute_result",
     "data": {
      "text/plain": [
       "         timestamp  engine_speed  average_speed\n",
       "0       1534192356     74.898806       53.16806\n",
       "300     1534192659      0.000000       52.91839\n",
       "600     1534192959      0.000000        0.00000\n",
       "900     1534193259      0.000000        0.00000\n",
       "1200    1534193559      0.000000        0.00000\n",
       "...            ...           ...            ...\n",
       "148500  1534528875      0.000000        0.00000\n",
       "148800  1534529175      0.000000        0.00000\n",
       "149100  1534622950      0.000000        3.69645\n",
       "149400  1534623250      0.000000        0.00000\n",
       "149700  1534623550      0.000000        0.00000\n",
       "\n",
       "[500 rows x 3 columns]"
      ],
      "text/html": "<div>\n<style scoped>\n    .dataframe tbody tr th:only-of-type {\n        vertical-align: middle;\n    }\n\n    .dataframe tbody tr th {\n        vertical-align: top;\n    }\n\n    .dataframe thead th {\n        text-align: right;\n    }\n</style>\n<table border=\"1\" class=\"dataframe\">\n  <thead>\n    <tr style=\"text-align: right;\">\n      <th></th>\n      <th>timestamp</th>\n      <th>engine_speed</th>\n      <th>average_speed</th>\n    </tr>\n  </thead>\n  <tbody>\n    <tr>\n      <th>0</th>\n      <td>1534192356</td>\n      <td>74.898806</td>\n      <td>53.16806</td>\n    </tr>\n    <tr>\n      <th>300</th>\n      <td>1534192659</td>\n      <td>0.000000</td>\n      <td>52.91839</td>\n    </tr>\n    <tr>\n      <th>600</th>\n      <td>1534192959</td>\n      <td>0.000000</td>\n      <td>0.00000</td>\n    </tr>\n    <tr>\n      <th>900</th>\n      <td>1534193259</td>\n      <td>0.000000</td>\n      <td>0.00000</td>\n    </tr>\n    <tr>\n      <th>1200</th>\n      <td>1534193559</td>\n      <td>0.000000</td>\n      <td>0.00000</td>\n    </tr>\n    <tr>\n      <th>...</th>\n      <td>...</td>\n      <td>...</td>\n      <td>...</td>\n    </tr>\n    <tr>\n      <th>148500</th>\n      <td>1534528875</td>\n      <td>0.000000</td>\n      <td>0.00000</td>\n    </tr>\n    <tr>\n      <th>148800</th>\n      <td>1534529175</td>\n      <td>0.000000</td>\n      <td>0.00000</td>\n    </tr>\n    <tr>\n      <th>149100</th>\n      <td>1534622950</td>\n      <td>0.000000</td>\n      <td>3.69645</td>\n    </tr>\n    <tr>\n      <th>149400</th>\n      <td>1534623250</td>\n      <td>0.000000</td>\n      <td>0.00000</td>\n    </tr>\n    <tr>\n      <th>149700</th>\n      <td>1534623550</td>\n      <td>0.000000</td>\n      <td>0.00000</td>\n    </tr>\n  </tbody>\n</table>\n<p>500 rows × 3 columns</p>\n</div>"
     },
     "metadata": {},
     "execution_count": 431
    }
   ],
   "source": [
    "speed_data=speed_data.fillna(53.16806)\n",
    "speed_data.head(1000)"
   ]
  },
  {
   "cell_type": "code",
   "execution_count": 432,
   "metadata": {},
   "outputs": [],
   "source": [
    "average_speed_data = speed_data[['timestamp','average_speed']]"
   ]
  },
  {
   "cell_type": "code",
   "execution_count": 433,
   "metadata": {},
   "outputs": [],
   "source": [
    "average_speed_data = average_speed_data.set_index('timestamp')"
   ]
  },
  {
   "cell_type": "code",
   "execution_count": 434,
   "metadata": {},
   "outputs": [
    {
     "output_type": "execute_result",
     "data": {
      "text/plain": [
       "            average_speed\n",
       "timestamp                \n",
       "1534192356       53.16806\n",
       "1534192659       52.91839\n",
       "1534192959        0.00000\n",
       "1534193259        0.00000\n",
       "1534193559        0.00000"
      ],
      "text/html": "<div>\n<style scoped>\n    .dataframe tbody tr th:only-of-type {\n        vertical-align: middle;\n    }\n\n    .dataframe tbody tr th {\n        vertical-align: top;\n    }\n\n    .dataframe thead th {\n        text-align: right;\n    }\n</style>\n<table border=\"1\" class=\"dataframe\">\n  <thead>\n    <tr style=\"text-align: right;\">\n      <th></th>\n      <th>average_speed</th>\n    </tr>\n    <tr>\n      <th>timestamp</th>\n      <th></th>\n    </tr>\n  </thead>\n  <tbody>\n    <tr>\n      <th>1534192356</th>\n      <td>53.16806</td>\n    </tr>\n    <tr>\n      <th>1534192659</th>\n      <td>52.91839</td>\n    </tr>\n    <tr>\n      <th>1534192959</th>\n      <td>0.00000</td>\n    </tr>\n    <tr>\n      <th>1534193259</th>\n      <td>0.00000</td>\n    </tr>\n    <tr>\n      <th>1534193559</th>\n      <td>0.00000</td>\n    </tr>\n  </tbody>\n</table>\n</div>"
     },
     "metadata": {},
     "execution_count": 434
    }
   ],
   "source": [
    "average_speed_data.head(5)"
   ]
  },
  {
   "cell_type": "code",
   "execution_count": 435,
   "metadata": {},
   "outputs": [],
   "source": [
    "engine = create_engine('sqlite:///mydb.db', echo=False)\n",
    "sqlite_connection = engine.connect()"
   ]
  },
  {
   "cell_type": "code",
   "execution_count": 436,
   "metadata": {},
   "outputs": [],
   "source": [
    "average_speed_data.to_sql('SPEED', con=engine, if_exists='replace')"
   ]
  },
  {
   "cell_type": "code",
   "execution_count": 437,
   "metadata": {},
   "outputs": [
    {
     "output_type": "execute_result",
     "data": {
      "text/plain": [
       "149795"
      ]
     },
     "metadata": {},
     "execution_count": 437
    }
   ],
   "source": [
    "len(predicted_activity)"
   ]
  },
  {
   "cell_type": "code",
   "execution_count": 438,
   "metadata": {},
   "outputs": [
    {
     "output_type": "execute_result",
     "data": {
      "text/plain": [
       "149795"
      ]
     },
     "metadata": {},
     "execution_count": 438
    }
   ],
   "source": [
    "len(data)"
   ]
  },
  {
   "cell_type": "code",
   "execution_count": 439,
   "metadata": {},
   "outputs": [],
   "source": [
    "predicted_activity_df = pd.DataFrame(data=predicted_activity,columns=['predicted_activity'])"
   ]
  },
  {
   "cell_type": "code",
   "execution_count": 440,
   "metadata": {},
   "outputs": [
    {
     "output_type": "execute_result",
     "data": {
      "text/plain": [
       "       predicted_activity\n",
       "0                    Idle\n",
       "1                    Idle\n",
       "2                    Idle\n",
       "3               Traveling\n",
       "4               Traveling\n",
       "...                   ...\n",
       "149790               Idle\n",
       "149791               Idle\n",
       "149792               Idle\n",
       "149793               Idle\n",
       "149794               Idle\n",
       "\n",
       "[149795 rows x 1 columns]"
      ],
      "text/html": "<div>\n<style scoped>\n    .dataframe tbody tr th:only-of-type {\n        vertical-align: middle;\n    }\n\n    .dataframe tbody tr th {\n        vertical-align: top;\n    }\n\n    .dataframe thead th {\n        text-align: right;\n    }\n</style>\n<table border=\"1\" class=\"dataframe\">\n  <thead>\n    <tr style=\"text-align: right;\">\n      <th></th>\n      <th>predicted_activity</th>\n    </tr>\n  </thead>\n  <tbody>\n    <tr>\n      <th>0</th>\n      <td>Idle</td>\n    </tr>\n    <tr>\n      <th>1</th>\n      <td>Idle</td>\n    </tr>\n    <tr>\n      <th>2</th>\n      <td>Idle</td>\n    </tr>\n    <tr>\n      <th>3</th>\n      <td>Traveling</td>\n    </tr>\n    <tr>\n      <th>4</th>\n      <td>Traveling</td>\n    </tr>\n    <tr>\n      <th>...</th>\n      <td>...</td>\n    </tr>\n    <tr>\n      <th>149790</th>\n      <td>Idle</td>\n    </tr>\n    <tr>\n      <th>149791</th>\n      <td>Idle</td>\n    </tr>\n    <tr>\n      <th>149792</th>\n      <td>Idle</td>\n    </tr>\n    <tr>\n      <th>149793</th>\n      <td>Idle</td>\n    </tr>\n    <tr>\n      <th>149794</th>\n      <td>Idle</td>\n    </tr>\n  </tbody>\n</table>\n<p>149795 rows × 1 columns</p>\n</div>"
     },
     "metadata": {},
     "execution_count": 440
    }
   ],
   "source": [
    "predicted_activity_df"
   ]
  },
  {
   "cell_type": "code",
   "execution_count": 441,
   "metadata": {},
   "outputs": [],
   "source": [
    "data_timestamp = data[['timestamp']]\n",
    "predicted_df = data_timestamp.join(predicted_activity_df)"
   ]
  },
  {
   "cell_type": "code",
   "execution_count": 442,
   "metadata": {},
   "outputs": [
    {
     "output_type": "execute_result",
     "data": {
      "text/plain": [
       "     timestamp predicted_activity\n",
       "0   1534192356               Idle\n",
       "1   1534192357               Idle\n",
       "2   1534192358               Idle\n",
       "3   1534192359          Traveling\n",
       "4   1534192360          Traveling\n",
       "5   1534192361               Idle\n",
       "6   1534192362          Traveling\n",
       "7   1534192363          Traveling\n",
       "8   1534192364          Traveling\n",
       "9   1534192365          Traveling\n",
       "10  1534192366          Traveling\n",
       "11  1534192367          Traveling\n",
       "12  1534192368          Traveling\n",
       "13  1534192369          Traveling\n",
       "14  1534192370          Traveling\n",
       "15  1534192371               Idle\n",
       "16  1534192372          Traveling\n",
       "17  1534192373          Traveling\n",
       "18  1534192374          Traveling\n",
       "19  1534192375          Traveling"
      ],
      "text/html": "<div>\n<style scoped>\n    .dataframe tbody tr th:only-of-type {\n        vertical-align: middle;\n    }\n\n    .dataframe tbody tr th {\n        vertical-align: top;\n    }\n\n    .dataframe thead th {\n        text-align: right;\n    }\n</style>\n<table border=\"1\" class=\"dataframe\">\n  <thead>\n    <tr style=\"text-align: right;\">\n      <th></th>\n      <th>timestamp</th>\n      <th>predicted_activity</th>\n    </tr>\n  </thead>\n  <tbody>\n    <tr>\n      <th>0</th>\n      <td>1534192356</td>\n      <td>Idle</td>\n    </tr>\n    <tr>\n      <th>1</th>\n      <td>1534192357</td>\n      <td>Idle</td>\n    </tr>\n    <tr>\n      <th>2</th>\n      <td>1534192358</td>\n      <td>Idle</td>\n    </tr>\n    <tr>\n      <th>3</th>\n      <td>1534192359</td>\n      <td>Traveling</td>\n    </tr>\n    <tr>\n      <th>4</th>\n      <td>1534192360</td>\n      <td>Traveling</td>\n    </tr>\n    <tr>\n      <th>5</th>\n      <td>1534192361</td>\n      <td>Idle</td>\n    </tr>\n    <tr>\n      <th>6</th>\n      <td>1534192362</td>\n      <td>Traveling</td>\n    </tr>\n    <tr>\n      <th>7</th>\n      <td>1534192363</td>\n      <td>Traveling</td>\n    </tr>\n    <tr>\n      <th>8</th>\n      <td>1534192364</td>\n      <td>Traveling</td>\n    </tr>\n    <tr>\n      <th>9</th>\n      <td>1534192365</td>\n      <td>Traveling</td>\n    </tr>\n    <tr>\n      <th>10</th>\n      <td>1534192366</td>\n      <td>Traveling</td>\n    </tr>\n    <tr>\n      <th>11</th>\n      <td>1534192367</td>\n      <td>Traveling</td>\n    </tr>\n    <tr>\n      <th>12</th>\n      <td>1534192368</td>\n      <td>Traveling</td>\n    </tr>\n    <tr>\n      <th>13</th>\n      <td>1534192369</td>\n      <td>Traveling</td>\n    </tr>\n    <tr>\n      <th>14</th>\n      <td>1534192370</td>\n      <td>Traveling</td>\n    </tr>\n    <tr>\n      <th>15</th>\n      <td>1534192371</td>\n      <td>Idle</td>\n    </tr>\n    <tr>\n      <th>16</th>\n      <td>1534192372</td>\n      <td>Traveling</td>\n    </tr>\n    <tr>\n      <th>17</th>\n      <td>1534192373</td>\n      <td>Traveling</td>\n    </tr>\n    <tr>\n      <th>18</th>\n      <td>1534192374</td>\n      <td>Traveling</td>\n    </tr>\n    <tr>\n      <th>19</th>\n      <td>1534192375</td>\n      <td>Traveling</td>\n    </tr>\n  </tbody>\n</table>\n</div>"
     },
     "metadata": {},
     "execution_count": 442
    }
   ],
   "source": [
    "predicted_df.head(20)"
   ]
  },
  {
   "cell_type": "code",
   "execution_count": 447,
   "metadata": {},
   "outputs": [],
   "source": [
    "cols = ['start_time','end_time', 'activity_type', 'duration']\n",
    "lst = []"
   ]
  },
  {
   "cell_type": "code",
   "execution_count": 448,
   "metadata": {
    "tags": []
   },
   "outputs": [],
   "source": [
    "initial_activity = predicted_df['predicted_activity'][0]\n",
    "start_timestamp = predicted_df['timestamp'][0]\n",
    "duration=0\n",
    "for index, row in predicted_df.iterrows():\n",
    "    if row['predicted_activity']!=initial_activity:\n",
    "        end_timestamp=row['timestamp']\n",
    "        duration=end_timestamp-start_timestamp\n",
    "        lst.append([start_timestamp,end_timestamp,initial_activity,duration])\n",
    "        #lst.append([end_timestamp,initial_activity,duration])\n",
    "        #print(start_timestamp,initial_activity,duration)\n",
    "        #print(end_timestamp,initial_activity,duration)\n",
    "        start_timestamp=end_timestamp\n",
    "    initial_activity=row['predicted_activity']\n",
    "df1 = pd.DataFrame(lst, columns=cols)"
   ]
  },
  {
   "cell_type": "code",
   "execution_count": 449,
   "metadata": {},
   "outputs": [
    {
     "output_type": "execute_result",
     "data": {
      "text/plain": [
       "      start_time    end_time activity_type  duration\n",
       "0     1534192356  1534192359          Idle         3\n",
       "1     1534192359  1534192361     Traveling         2\n",
       "2     1534192361  1534192362          Idle         1\n",
       "3     1534192362  1534192371     Traveling         9\n",
       "4     1534192371  1534192372          Idle         1\n",
       "...          ...         ...           ...       ...\n",
       "6562  1534623575  1534623576     Traveling         1\n",
       "6563  1534623576  1534623579          Idle         3\n",
       "6564  1534623579  1534623601     Traveling        22\n",
       "6565  1534623601  1534623602          Idle         1\n",
       "6566  1534623602  1534623636     Traveling        34\n",
       "\n",
       "[6567 rows x 4 columns]"
      ],
      "text/html": "<div>\n<style scoped>\n    .dataframe tbody tr th:only-of-type {\n        vertical-align: middle;\n    }\n\n    .dataframe tbody tr th {\n        vertical-align: top;\n    }\n\n    .dataframe thead th {\n        text-align: right;\n    }\n</style>\n<table border=\"1\" class=\"dataframe\">\n  <thead>\n    <tr style=\"text-align: right;\">\n      <th></th>\n      <th>start_time</th>\n      <th>end_time</th>\n      <th>activity_type</th>\n      <th>duration</th>\n    </tr>\n  </thead>\n  <tbody>\n    <tr>\n      <th>0</th>\n      <td>1534192356</td>\n      <td>1534192359</td>\n      <td>Idle</td>\n      <td>3</td>\n    </tr>\n    <tr>\n      <th>1</th>\n      <td>1534192359</td>\n      <td>1534192361</td>\n      <td>Traveling</td>\n      <td>2</td>\n    </tr>\n    <tr>\n      <th>2</th>\n      <td>1534192361</td>\n      <td>1534192362</td>\n      <td>Idle</td>\n      <td>1</td>\n    </tr>\n    <tr>\n      <th>3</th>\n      <td>1534192362</td>\n      <td>1534192371</td>\n      <td>Traveling</td>\n      <td>9</td>\n    </tr>\n    <tr>\n      <th>4</th>\n      <td>1534192371</td>\n      <td>1534192372</td>\n      <td>Idle</td>\n      <td>1</td>\n    </tr>\n    <tr>\n      <th>...</th>\n      <td>...</td>\n      <td>...</td>\n      <td>...</td>\n      <td>...</td>\n    </tr>\n    <tr>\n      <th>6562</th>\n      <td>1534623575</td>\n      <td>1534623576</td>\n      <td>Traveling</td>\n      <td>1</td>\n    </tr>\n    <tr>\n      <th>6563</th>\n      <td>1534623576</td>\n      <td>1534623579</td>\n      <td>Idle</td>\n      <td>3</td>\n    </tr>\n    <tr>\n      <th>6564</th>\n      <td>1534623579</td>\n      <td>1534623601</td>\n      <td>Traveling</td>\n      <td>22</td>\n    </tr>\n    <tr>\n      <th>6565</th>\n      <td>1534623601</td>\n      <td>1534623602</td>\n      <td>Idle</td>\n      <td>1</td>\n    </tr>\n    <tr>\n      <th>6566</th>\n      <td>1534623602</td>\n      <td>1534623636</td>\n      <td>Traveling</td>\n      <td>34</td>\n    </tr>\n  </tbody>\n</table>\n<p>6567 rows × 4 columns</p>\n</div>"
     },
     "metadata": {},
     "execution_count": 449
    }
   ],
   "source": [
    "df1"
   ]
  },
  {
   "cell_type": "code",
   "execution_count": 450,
   "metadata": {},
   "outputs": [],
   "source": [
    "df1.to_sql('ACTIVITY', con=engine, if_exists='replace')"
   ]
  },
  {
   "cell_type": "code",
   "execution_count": null,
   "metadata": {},
   "outputs": [],
   "source": []
  }
 ],
 "metadata": {
  "kernelspec": {
   "display_name": "Python 3",
   "language": "python",
   "name": "python3"
  },
  "language_info": {
   "codemirror_mode": {
    "name": "ipython",
    "version": 2
   },
   "file_extension": ".py",
   "mimetype": "text/x-python",
   "name": "python",
   "nbconvert_exporter": "python",
   "pygments_lexer": "ipython2",
   "version": "3.8.5-final"
  }
 },
 "nbformat": 4,
 "nbformat_minor": 2
}